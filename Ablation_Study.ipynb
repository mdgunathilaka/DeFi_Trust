{
  "nbformat": 4,
  "nbformat_minor": 0,
  "metadata": {
    "colab": {
      "provenance": [],
      "gpuType": "T4"
    },
    "kernelspec": {
      "name": "python3",
      "display_name": "Python 3"
    },
    "language_info": {
      "name": "python"
    },
    "accelerator": "GPU"
  },
  "cells": [
    {
      "cell_type": "code",
      "source": [
        "!nvcc --version"
      ],
      "metadata": {
        "colab": {
          "base_uri": "https://localhost:8080/"
        },
        "id": "upb2rs4k0wFn",
        "outputId": "a5e8c98c-ab10-4db1-f6eb-2d28d36b3e06"
      },
      "execution_count": null,
      "outputs": [
        {
          "output_type": "stream",
          "name": "stdout",
          "text": [
            "nvcc: NVIDIA (R) Cuda compiler driver\n",
            "Copyright (c) 2005-2022 NVIDIA Corporation\n",
            "Built on Wed_Sep_21_10:33:58_PDT_2022\n",
            "Cuda compilation tools, release 11.8, V11.8.89\n",
            "Build cuda_11.8.r11.8/compiler.31833905_0\n"
          ]
        }
      ]
    },
    {
      "cell_type": "code",
      "source": [
        "pip install torch==1.13.1+cu117 torchvision==0.14.1+cu117 torchaudio==0.13.1 --extra-index-url https://download.pytorch.org/whl/cu117"
      ],
      "metadata": {
        "colab": {
          "base_uri": "https://localhost:8080/"
        },
        "id": "Aha4qihl4Tij",
        "outputId": "5e2f1a04-4fa9-4522-b871-a50b2d5d07e0"
      },
      "execution_count": null,
      "outputs": [
        {
          "output_type": "stream",
          "name": "stdout",
          "text": [
            "Looking in indexes: https://pypi.org/simple, https://us-python.pkg.dev/colab-wheels/public/simple/, https://download.pytorch.org/whl/cu117\n",
            "Collecting torch==1.13.1+cu117\n",
            "  Downloading https://download.pytorch.org/whl/cu117/torch-1.13.1%2Bcu117-cp310-cp310-linux_x86_64.whl (1801.8 MB)\n",
            "\u001b[2K     \u001b[90m━━━━━━━━━━━━━━━━━━━━━━━━━━━━━━━━━━━━━━━━\u001b[0m \u001b[32m1.8/1.8 GB\u001b[0m \u001b[31m405.6 kB/s\u001b[0m eta \u001b[36m0:00:00\u001b[0m\n",
            "\u001b[?25hCollecting torchvision==0.14.1+cu117\n",
            "  Downloading https://download.pytorch.org/whl/cu117/torchvision-0.14.1%2Bcu117-cp310-cp310-linux_x86_64.whl (24.3 MB)\n",
            "\u001b[2K     \u001b[90m━━━━━━━━━━━━━━━━━━━━━━━━━━━━━━━━━━━━━━━━\u001b[0m \u001b[32m24.3/24.3 MB\u001b[0m \u001b[31m44.5 MB/s\u001b[0m eta \u001b[36m0:00:00\u001b[0m\n",
            "\u001b[?25hCollecting torchaudio==0.13.1\n",
            "  Downloading https://download.pytorch.org/whl/cu117/torchaudio-0.13.1%2Bcu117-cp310-cp310-linux_x86_64.whl (4.2 MB)\n",
            "\u001b[2K     \u001b[90m━━━━━━━━━━━━━━━━━━━━━━━━━━━━━━━━━━━━━━━━\u001b[0m \u001b[32m4.2/4.2 MB\u001b[0m \u001b[31m66.7 MB/s\u001b[0m eta \u001b[36m0:00:00\u001b[0m\n",
            "\u001b[?25hRequirement already satisfied: typing-extensions in /usr/local/lib/python3.10/dist-packages (from torch==1.13.1+cu117) (4.5.0)\n",
            "Requirement already satisfied: numpy in /usr/local/lib/python3.10/dist-packages (from torchvision==0.14.1+cu117) (1.22.4)\n",
            "Requirement already satisfied: requests in /usr/local/lib/python3.10/dist-packages (from torchvision==0.14.1+cu117) (2.27.1)\n",
            "Requirement already satisfied: pillow!=8.3.*,>=5.3.0 in /usr/local/lib/python3.10/dist-packages (from torchvision==0.14.1+cu117) (8.4.0)\n",
            "Requirement already satisfied: urllib3<1.27,>=1.21.1 in /usr/local/lib/python3.10/dist-packages (from requests->torchvision==0.14.1+cu117) (1.26.15)\n",
            "Requirement already satisfied: certifi>=2017.4.17 in /usr/local/lib/python3.10/dist-packages (from requests->torchvision==0.14.1+cu117) (2022.12.7)\n",
            "Requirement already satisfied: charset-normalizer~=2.0.0 in /usr/local/lib/python3.10/dist-packages (from requests->torchvision==0.14.1+cu117) (2.0.12)\n",
            "Requirement already satisfied: idna<4,>=2.5 in /usr/local/lib/python3.10/dist-packages (from requests->torchvision==0.14.1+cu117) (3.4)\n",
            "Installing collected packages: torch, torchvision, torchaudio\n",
            "  Attempting uninstall: torch\n",
            "    Found existing installation: torch 2.0.1+cu118\n",
            "    Uninstalling torch-2.0.1+cu118:\n",
            "      Successfully uninstalled torch-2.0.1+cu118\n",
            "  Attempting uninstall: torchvision\n",
            "    Found existing installation: torchvision 0.15.2+cu118\n",
            "    Uninstalling torchvision-0.15.2+cu118:\n",
            "      Successfully uninstalled torchvision-0.15.2+cu118\n",
            "  Attempting uninstall: torchaudio\n",
            "    Found existing installation: torchaudio 2.0.2+cu118\n",
            "    Uninstalling torchaudio-2.0.2+cu118:\n",
            "      Successfully uninstalled torchaudio-2.0.2+cu118\n",
            "\u001b[31mERROR: pip's dependency resolver does not currently take into account all the packages that are installed. This behaviour is the source of the following dependency conflicts.\n",
            "torchdata 0.6.1 requires torch==2.0.1, but you have torch 1.13.1+cu117 which is incompatible.\n",
            "torchtext 0.15.2 requires torch==2.0.1, but you have torch 1.13.1+cu117 which is incompatible.\u001b[0m\u001b[31m\n",
            "\u001b[0mSuccessfully installed torch-1.13.1+cu117 torchaudio-0.13.1+cu117 torchvision-0.14.1+cu117\n"
          ]
        }
      ]
    },
    {
      "cell_type": "code",
      "source": [
        "#!pip install torch==2.0.0+cu118 torchvision==0.15.1+cu118 torchaudio==2.0.1 --index-url https://download.pytorch.org/whl/cu118"
      ],
      "metadata": {
        "id": "zLKXORvJ001J"
      },
      "execution_count": null,
      "outputs": []
    },
    {
      "cell_type": "code",
      "source": [
        "#!pip install torchdata==0.6.0"
      ],
      "metadata": {
        "id": "mTm7zOD22Yye"
      },
      "execution_count": null,
      "outputs": []
    },
    {
      "cell_type": "code",
      "source": [
        "#!pip install torchtext==0.15.1"
      ],
      "metadata": {
        "id": "z5FlTM652mfv"
      },
      "execution_count": null,
      "outputs": []
    },
    {
      "cell_type": "code",
      "execution_count": null,
      "metadata": {
        "id": "TQ9vaZNjg-Bv"
      },
      "outputs": [],
      "source": [
        "import torch\n",
        "from torch import nn, Tensor\n",
        "from torch.nn import TransformerEncoder, TransformerEncoderLayer\n",
        "import math\n",
        "import numpy as np"
      ]
    },
    {
      "cell_type": "code",
      "source": [
        "torch.__version__"
      ],
      "metadata": {
        "colab": {
          "base_uri": "https://localhost:8080/",
          "height": 35
        },
        "id": "ZYbnZdbz06pn",
        "outputId": "127ba225-c112-4132-baee-8c0163daae7d"
      },
      "execution_count": null,
      "outputs": [
        {
          "output_type": "execute_result",
          "data": {
            "text/plain": [
              "'1.13.1+cu117'"
            ],
            "application/vnd.google.colaboratory.intrinsic+json": {
              "type": "string"
            }
          },
          "metadata": {},
          "execution_count": 3
        }
      ]
    },
    {
      "cell_type": "code",
      "source": [
        "class BinaryClassification(nn.Module):\n",
        "  def __init__(self, embed_size, device):\n",
        "    super(BinaryClassification, self).__init__()\n",
        "    # Number of input features is embed_size.\n",
        "    self.layer_1 = nn.Linear(embed_size, 64)\n",
        "    self.layer_2 = nn.Linear(64, 64)\n",
        "    self.layer_out = nn.Linear(64, 1)\n",
        "\n",
        "    self.relu = nn.ReLU()\n",
        "    self.dropout = nn.Dropout(p=0.1)\n",
        "    self.batchnorm1 = nn.BatchNorm1d(64)\n",
        "    self.batchnorm2 = nn.BatchNorm1d(64)\n",
        "    self.device = device\n",
        "\n",
        "  def forward(self, inputs, src):\n",
        "    x = self.relu(self.layer_1(inputs))\n",
        "    x = self.batchnorm1(x)\n",
        "    x = self.relu(self.layer_2(x))\n",
        "    x = self.batchnorm2(x)\n",
        "    x = self.dropout(x)\n",
        "    x = self.layer_out(x)\n",
        "    #if math.isnan (x[0][0]):\n",
        "    #  print(src)\n",
        "\n",
        "    return x"
      ],
      "metadata": {
        "id": "lKX9oYtu6LD0"
      },
      "execution_count": null,
      "outputs": []
    },
    {
      "cell_type": "code",
      "source": [
        "class Classifier(nn.Module):\n",
        "  def __init__(self, d_model, seq_len, nhead, dim_feedforward, nlayers, device, dropout = 0.5):\n",
        "    super(Classifier, self).__init__()\n",
        "    self.d_model = d_model\n",
        "    self.seq_len = seq_len\n",
        "    self.nhead = nhead\n",
        "    self.dim_feedforward = dim_feedforward\n",
        "    self.nlayers = nlayers\n",
        "    self.device = device\n",
        "    #self.pos_encoder = PositionalEncoding(d_model, dropout)\n",
        "    self.position_embedding = nn.Embedding(seq_len, d_model)\n",
        "    encoder_layer = TransformerEncoderLayer(d_model, nhead, dim_feedforward, dropout, batch_first=True)\n",
        "    self.encoder = TransformerEncoder(encoder_layer, nlayers)\n",
        "    self.binary_classifier = BinaryClassification(seq_len*d_model, device)\n",
        "\n",
        "\n",
        "  def forward(self, src: Tensor) -> Tensor:\n",
        "    #print(\"Classifier forwrd\")\n",
        "    \"\"\"\n",
        "    Args:\n",
        "        src: Tensor, shape [seq_len, batch_size]\n",
        "        src_mask: Tensor, shape [seq_len, seq_len]\n",
        "    Returns:\n",
        "        output Tensor of shape [seq_len, batch_size, ntoken]\n",
        "    \"\"\"\n",
        "    N, seq_length, embed_size = src.shape\n",
        "    positions = torch.arange(0, seq_length).expand(N, seq_length).to(self.device)\n",
        "\n",
        "    #print(f\"src before positional embeddings: {src.shape}\")\n",
        "    src_ = src + self.position_embedding(positions)\n",
        "    #print(f\"src after positional embeddings: {src_.shape}\")\n",
        "    #print(f\"src after positional embeddings: {src.shape}\")\n",
        "    #print(src)\n",
        "    #print(\"before encoder\")\n",
        "    output = self.encoder(src_)\n",
        "    #print(f\"encoder output shape: {output.shape}\")\n",
        "    #print(output[0])\n",
        "    #print(output)\n",
        "    #print(\"after encoder\")\n",
        "    output = self.binary_classifier(torch.reshape(output, (N, seq_length*embed_size)), src) ##\n",
        "    return output"
      ],
      "metadata": {
        "id": "UfthdYqI6W0U"
      },
      "execution_count": null,
      "outputs": []
    },
    {
      "cell_type": "code",
      "source": [
        "device = torch.device(\"cuda\" if torch.cuda.is_available() else \"cpu\")"
      ],
      "metadata": {
        "id": "CZfzqI_v619i"
      },
      "execution_count": null,
      "outputs": []
    },
    {
      "cell_type": "code",
      "source": [
        "#hyperparameters\n",
        "dim_feedforward=16\n",
        "#dim_feedforward=32\n",
        "nlayers_tx=8"
      ],
      "metadata": {
        "id": "SboFES2e69Y_"
      },
      "execution_count": null,
      "outputs": []
    },
    {
      "cell_type": "code",
      "source": [
        "model = Classifier(d_model=7, seq_len=108, nhead=7, dim_feedforward=8, nlayers=8, device=device)\n",
        "model.to(device)"
      ],
      "metadata": {
        "colab": {
          "base_uri": "https://localhost:8080/"
        },
        "id": "p5_6Jclv616E",
        "outputId": "28dab34d-471d-49f0-ed8d-b75ffd6eeb8f"
      },
      "execution_count": null,
      "outputs": [
        {
          "output_type": "execute_result",
          "data": {
            "text/plain": [
              "Classifier(\n",
              "  (position_embedding): Embedding(108, 7)\n",
              "  (encoder): TransformerEncoder(\n",
              "    (layers): ModuleList(\n",
              "      (0): TransformerEncoderLayer(\n",
              "        (self_attn): MultiheadAttention(\n",
              "          (out_proj): NonDynamicallyQuantizableLinear(in_features=7, out_features=7, bias=True)\n",
              "        )\n",
              "        (linear1): Linear(in_features=7, out_features=8, bias=True)\n",
              "        (dropout): Dropout(p=0.5, inplace=False)\n",
              "        (linear2): Linear(in_features=8, out_features=7, bias=True)\n",
              "        (norm1): LayerNorm((7,), eps=1e-05, elementwise_affine=True)\n",
              "        (norm2): LayerNorm((7,), eps=1e-05, elementwise_affine=True)\n",
              "        (dropout1): Dropout(p=0.5, inplace=False)\n",
              "        (dropout2): Dropout(p=0.5, inplace=False)\n",
              "      )\n",
              "      (1): TransformerEncoderLayer(\n",
              "        (self_attn): MultiheadAttention(\n",
              "          (out_proj): NonDynamicallyQuantizableLinear(in_features=7, out_features=7, bias=True)\n",
              "        )\n",
              "        (linear1): Linear(in_features=7, out_features=8, bias=True)\n",
              "        (dropout): Dropout(p=0.5, inplace=False)\n",
              "        (linear2): Linear(in_features=8, out_features=7, bias=True)\n",
              "        (norm1): LayerNorm((7,), eps=1e-05, elementwise_affine=True)\n",
              "        (norm2): LayerNorm((7,), eps=1e-05, elementwise_affine=True)\n",
              "        (dropout1): Dropout(p=0.5, inplace=False)\n",
              "        (dropout2): Dropout(p=0.5, inplace=False)\n",
              "      )\n",
              "      (2): TransformerEncoderLayer(\n",
              "        (self_attn): MultiheadAttention(\n",
              "          (out_proj): NonDynamicallyQuantizableLinear(in_features=7, out_features=7, bias=True)\n",
              "        )\n",
              "        (linear1): Linear(in_features=7, out_features=8, bias=True)\n",
              "        (dropout): Dropout(p=0.5, inplace=False)\n",
              "        (linear2): Linear(in_features=8, out_features=7, bias=True)\n",
              "        (norm1): LayerNorm((7,), eps=1e-05, elementwise_affine=True)\n",
              "        (norm2): LayerNorm((7,), eps=1e-05, elementwise_affine=True)\n",
              "        (dropout1): Dropout(p=0.5, inplace=False)\n",
              "        (dropout2): Dropout(p=0.5, inplace=False)\n",
              "      )\n",
              "      (3): TransformerEncoderLayer(\n",
              "        (self_attn): MultiheadAttention(\n",
              "          (out_proj): NonDynamicallyQuantizableLinear(in_features=7, out_features=7, bias=True)\n",
              "        )\n",
              "        (linear1): Linear(in_features=7, out_features=8, bias=True)\n",
              "        (dropout): Dropout(p=0.5, inplace=False)\n",
              "        (linear2): Linear(in_features=8, out_features=7, bias=True)\n",
              "        (norm1): LayerNorm((7,), eps=1e-05, elementwise_affine=True)\n",
              "        (norm2): LayerNorm((7,), eps=1e-05, elementwise_affine=True)\n",
              "        (dropout1): Dropout(p=0.5, inplace=False)\n",
              "        (dropout2): Dropout(p=0.5, inplace=False)\n",
              "      )\n",
              "      (4): TransformerEncoderLayer(\n",
              "        (self_attn): MultiheadAttention(\n",
              "          (out_proj): NonDynamicallyQuantizableLinear(in_features=7, out_features=7, bias=True)\n",
              "        )\n",
              "        (linear1): Linear(in_features=7, out_features=8, bias=True)\n",
              "        (dropout): Dropout(p=0.5, inplace=False)\n",
              "        (linear2): Linear(in_features=8, out_features=7, bias=True)\n",
              "        (norm1): LayerNorm((7,), eps=1e-05, elementwise_affine=True)\n",
              "        (norm2): LayerNorm((7,), eps=1e-05, elementwise_affine=True)\n",
              "        (dropout1): Dropout(p=0.5, inplace=False)\n",
              "        (dropout2): Dropout(p=0.5, inplace=False)\n",
              "      )\n",
              "      (5): TransformerEncoderLayer(\n",
              "        (self_attn): MultiheadAttention(\n",
              "          (out_proj): NonDynamicallyQuantizableLinear(in_features=7, out_features=7, bias=True)\n",
              "        )\n",
              "        (linear1): Linear(in_features=7, out_features=8, bias=True)\n",
              "        (dropout): Dropout(p=0.5, inplace=False)\n",
              "        (linear2): Linear(in_features=8, out_features=7, bias=True)\n",
              "        (norm1): LayerNorm((7,), eps=1e-05, elementwise_affine=True)\n",
              "        (norm2): LayerNorm((7,), eps=1e-05, elementwise_affine=True)\n",
              "        (dropout1): Dropout(p=0.5, inplace=False)\n",
              "        (dropout2): Dropout(p=0.5, inplace=False)\n",
              "      )\n",
              "      (6): TransformerEncoderLayer(\n",
              "        (self_attn): MultiheadAttention(\n",
              "          (out_proj): NonDynamicallyQuantizableLinear(in_features=7, out_features=7, bias=True)\n",
              "        )\n",
              "        (linear1): Linear(in_features=7, out_features=8, bias=True)\n",
              "        (dropout): Dropout(p=0.5, inplace=False)\n",
              "        (linear2): Linear(in_features=8, out_features=7, bias=True)\n",
              "        (norm1): LayerNorm((7,), eps=1e-05, elementwise_affine=True)\n",
              "        (norm2): LayerNorm((7,), eps=1e-05, elementwise_affine=True)\n",
              "        (dropout1): Dropout(p=0.5, inplace=False)\n",
              "        (dropout2): Dropout(p=0.5, inplace=False)\n",
              "      )\n",
              "      (7): TransformerEncoderLayer(\n",
              "        (self_attn): MultiheadAttention(\n",
              "          (out_proj): NonDynamicallyQuantizableLinear(in_features=7, out_features=7, bias=True)\n",
              "        )\n",
              "        (linear1): Linear(in_features=7, out_features=8, bias=True)\n",
              "        (dropout): Dropout(p=0.5, inplace=False)\n",
              "        (linear2): Linear(in_features=8, out_features=7, bias=True)\n",
              "        (norm1): LayerNorm((7,), eps=1e-05, elementwise_affine=True)\n",
              "        (norm2): LayerNorm((7,), eps=1e-05, elementwise_affine=True)\n",
              "        (dropout1): Dropout(p=0.5, inplace=False)\n",
              "        (dropout2): Dropout(p=0.5, inplace=False)\n",
              "      )\n",
              "    )\n",
              "  )\n",
              "  (binary_classifier): BinaryClassification(\n",
              "    (layer_1): Linear(in_features=756, out_features=64, bias=True)\n",
              "    (layer_2): Linear(in_features=64, out_features=64, bias=True)\n",
              "    (layer_out): Linear(in_features=64, out_features=1, bias=True)\n",
              "    (relu): ReLU()\n",
              "    (dropout): Dropout(p=0.1, inplace=False)\n",
              "    (batchnorm1): BatchNorm1d(64, eps=1e-05, momentum=0.1, affine=True, track_running_stats=True)\n",
              "    (batchnorm2): BatchNorm1d(64, eps=1e-05, momentum=0.1, affine=True, track_running_stats=True)\n",
              "  )\n",
              ")"
            ]
          },
          "metadata": {},
          "execution_count": 34
        }
      ]
    },
    {
      "cell_type": "code",
      "source": [
        "def binary_acc(y_pred, y_test):\n",
        "    y_pred_tag = torch.round(torch.sigmoid(y_pred))\n",
        "\n",
        "    correct_results_sum = (y_pred_tag == y_test).sum().float()\n",
        "    acc = correct_results_sum/y_test.shape[0]\n",
        "    acc = torch.round(acc * 100)\n",
        "\n",
        "    return acc"
      ],
      "metadata": {
        "id": "rIQDpV0s77eH"
      },
      "execution_count": null,
      "outputs": []
    },
    {
      "cell_type": "code",
      "source": [
        "from sklearn.model_selection import train_test_split"
      ],
      "metadata": {
        "id": "mU3oZoDP792s"
      },
      "execution_count": null,
      "outputs": []
    },
    {
      "cell_type": "code",
      "source": [
        "from google.colab import drive\n",
        "drive.mount('/content/drive')"
      ],
      "metadata": {
        "colab": {
          "base_uri": "https://localhost:8080/"
        },
        "id": "SFaIQKIlBLNN",
        "outputId": "491ceec6-cc83-4374-8b7e-ca511ec9f00a"
      },
      "execution_count": null,
      "outputs": [
        {
          "output_type": "stream",
          "name": "stdout",
          "text": [
            "Mounted at /content/drive\n"
          ]
        }
      ]
    },
    {
      "cell_type": "code",
      "source": [
        "%cd /content/drive/My Drive/FYP_Data/Ablation"
      ],
      "metadata": {
        "colab": {
          "base_uri": "https://localhost:8080/"
        },
        "id": "iXZlsm6GBdcD",
        "outputId": "bd52e33c-5482-48ca-dc15-b110216de6ca"
      },
      "execution_count": null,
      "outputs": [
        {
          "output_type": "stream",
          "name": "stdout",
          "text": [
            "/content/drive/My Drive/FYP_Data/Ablation\n"
          ]
        }
      ]
    },
    {
      "cell_type": "code",
      "source": [
        "x = np.load(\"Ablation_Data.npy\")\n",
        "y = np.load(\"Ablation_Labels.npy\")"
      ],
      "metadata": {
        "id": "FHOlujz9BjAd"
      },
      "execution_count": null,
      "outputs": []
    },
    {
      "cell_type": "code",
      "source": [
        "print(x.shape)\n",
        "print(y.shape)"
      ],
      "metadata": {
        "colab": {
          "base_uri": "https://localhost:8080/"
        },
        "id": "xH_Tcn8CBk08",
        "outputId": "03382ba4-e4ee-4e23-ffd0-430a3482ff0f"
      },
      "execution_count": null,
      "outputs": [
        {
          "output_type": "stream",
          "name": "stdout",
          "text": [
            "(24269, 108, 7)\n",
            "(24269,)\n"
          ]
        }
      ]
    },
    {
      "cell_type": "code",
      "source": [
        "X, X_test, Y, y_test = train_test_split(x, y, test_size=0.1, random_state=42) #test split"
      ],
      "metadata": {
        "id": "j5RlkcKNBt1o"
      },
      "execution_count": null,
      "outputs": []
    },
    {
      "cell_type": "code",
      "source": [
        "np.save(\"X_test.npy\",X_test)\n",
        "np.save(\"y_test.npy\",y_test)"
      ],
      "metadata": {
        "id": "XyBHdv88B5qh"
      },
      "execution_count": null,
      "outputs": []
    },
    {
      "cell_type": "code",
      "source": [
        "#load test\n",
        "X_test = np.load(\"X_test.npy\", allow_pickle=True)\n",
        "y_test = np.load(\"y_test.npy\", allow_pickle=True)"
      ],
      "metadata": {
        "id": "GWqGNAxWB-il"
      },
      "execution_count": null,
      "outputs": []
    },
    {
      "cell_type": "code",
      "source": [
        "X_train, X_val, y_train, y_val = train_test_split(X, Y, test_size=0.1, random_state=42) #validation split"
      ],
      "metadata": {
        "id": "Ca97i61sCBjd"
      },
      "execution_count": null,
      "outputs": []
    },
    {
      "cell_type": "code",
      "source": [
        "np.save(\"X_train.npy\",X_train)\n",
        "np.save(\"y_train.npy\",y_train)\n",
        "np.save(\"X_val.npy\",X_val)\n",
        "np.save(\"y_val.npy\",y_val)"
      ],
      "metadata": {
        "id": "Y0ih1KJNCE7P"
      },
      "execution_count": null,
      "outputs": []
    },
    {
      "cell_type": "code",
      "source": [
        "#load train val\n",
        "X_train = np.load(\"X_train.npy\", allow_pickle=True)\n",
        "y_train = np.load(\"y_train.npy\", allow_pickle=True)\n",
        "X_val = np.load(\"X_val.npy\", allow_pickle=True)\n",
        "y_val = np.load(\"y_val.npy\", allow_pickle=True)"
      ],
      "metadata": {
        "id": "Y8PcTJ3ACG8P"
      },
      "execution_count": null,
      "outputs": []
    },
    {
      "cell_type": "code",
      "source": [
        "print(X_train.shape)"
      ],
      "metadata": {
        "colab": {
          "base_uri": "https://localhost:8080/"
        },
        "id": "U-qSZ1ENCJDk",
        "outputId": "fe204dc9-57a8-488c-a410-42a0af34f9cc"
      },
      "execution_count": null,
      "outputs": [
        {
          "output_type": "stream",
          "name": "stdout",
          "text": [
            "(19656, 108, 7)\n"
          ]
        }
      ]
    },
    {
      "cell_type": "code",
      "source": [
        "X_train = X_train[:19656]"
      ],
      "metadata": {
        "id": "54p4Ewh-Fp68"
      },
      "execution_count": null,
      "outputs": []
    },
    {
      "cell_type": "code",
      "source": [
        "print(X_val.shape)"
      ],
      "metadata": {
        "colab": {
          "base_uri": "https://localhost:8080/"
        },
        "id": "-bh7IRI0CLDb",
        "outputId": "f38562c3-a146-4305-9664-f443cc72bc6c"
      },
      "execution_count": null,
      "outputs": [
        {
          "output_type": "stream",
          "name": "stdout",
          "text": [
            "(2184, 108, 7)\n"
          ]
        }
      ]
    },
    {
      "cell_type": "code",
      "source": [
        "X_val = X_val[:2184]"
      ],
      "metadata": {
        "id": "_AVMFcuGFlYW"
      },
      "execution_count": null,
      "outputs": []
    },
    {
      "cell_type": "code",
      "source": [
        "print(X_test.shape)"
      ],
      "metadata": {
        "colab": {
          "base_uri": "https://localhost:8080/"
        },
        "id": "8w-8A9LxCM0J",
        "outputId": "671effc7-146d-463c-9514-04e4c6e96e4c"
      },
      "execution_count": null,
      "outputs": [
        {
          "output_type": "stream",
          "name": "stdout",
          "text": [
            "(2427, 108, 7)\n"
          ]
        }
      ]
    },
    {
      "cell_type": "code",
      "source": [
        "print(np.sum(y_train)/y_train.shape[0])\n",
        "print(np.sum(y_val)/y_val.shape[0])\n",
        "print(np.sum(y_test)/y_test.shape[0])"
      ],
      "metadata": {
        "colab": {
          "base_uri": "https://localhost:8080/"
        },
        "id": "D3DJpQXeCPOY",
        "outputId": "a0a09959-2cad-4e8d-a278-a52ddd7da5e1"
      },
      "execution_count": null,
      "outputs": [
        {
          "output_type": "stream",
          "name": "stdout",
          "text": [
            "0.02574146614437605\n",
            "0.02425629290617849\n",
            "0.02843016069221261\n"
          ]
        }
      ]
    },
    {
      "cell_type": "code",
      "source": [
        "from torch.utils.data import Dataset, DataLoader"
      ],
      "metadata": {
        "id": "utMXpDr1CR3q"
      },
      "execution_count": null,
      "outputs": []
    },
    {
      "cell_type": "code",
      "source": [
        "## train data\n",
        "from sklearn import preprocessing\n",
        "class TrainData(Dataset):\n",
        "\n",
        "    def __init__(self, X_data, y_data):\n",
        "        self.X_data = X_data\n",
        "        self.y_data = y_data\n",
        "\n",
        "    def __getitem__(self, index):\n",
        "        return self.X_data[index], self.y_data[index]\n",
        "\n",
        "    def __len__ (self):\n",
        "        return len(self.X_data)\n",
        "\n",
        "\n",
        "train_data = TrainData(X_train, y_train)\n",
        "\n",
        "## val data\n",
        "class ValData(Dataset):\n",
        "\n",
        "    def __init__(self, X_data, y_data):\n",
        "        self.X_data = X_data\n",
        "        self.y_data = y_data\n",
        "\n",
        "    def __getitem__(self, index):\n",
        "        return self.X_data[index], self.y_data[index]\n",
        "\n",
        "    def __len__ (self):\n",
        "        return len(self.X_data)\n",
        "\n",
        "\n",
        "val_data = ValData(X_val, y_val)\n",
        "\n",
        "## test data\n",
        "class TestData(Dataset):\n",
        "\n",
        "    def __init__(self, X_data, y_data):\n",
        "        self.X_data = X_data\n",
        "        self.y_data = y_data\n",
        "\n",
        "    def __getitem__(self, index):\n",
        "        return self.X_data[index], self.y_data[index]\n",
        "\n",
        "    def __len__ (self):\n",
        "        return len(self.X_data)\n",
        "\n",
        "\n",
        "test_data = TestData(X_test, y_test)"
      ],
      "metadata": {
        "id": "mhQSnKuECVIN"
      },
      "execution_count": null,
      "outputs": []
    },
    {
      "cell_type": "code",
      "source": [
        "EPOCHS = 10\n",
        "BATCH_SIZE = 8\n",
        "LEARNING_RATE = 0.001"
      ],
      "metadata": {
        "id": "uc8whSsvCuEx"
      },
      "execution_count": null,
      "outputs": []
    },
    {
      "cell_type": "code",
      "source": [
        "train_loader = DataLoader(dataset=train_data, batch_size=BATCH_SIZE, shuffle=True)\n",
        "test_loader = DataLoader(dataset=test_data, batch_size=1)"
      ],
      "metadata": {
        "id": "zcNASJP4CwRY"
      },
      "execution_count": null,
      "outputs": []
    },
    {
      "cell_type": "code",
      "source": [
        "import torch.optim as optim\n",
        "criterion = nn.BCEWithLogitsLoss()\n",
        "optimizer = optim.Adam(model.parameters(), lr=LEARNING_RATE)"
      ],
      "metadata": {
        "id": "aZRNOMv-CzS8"
      },
      "execution_count": null,
      "outputs": []
    },
    {
      "cell_type": "code",
      "source": [
        "for e in range(1, EPOCHS+1):\n",
        "    epoch_loss = 0\n",
        "    epoch_acc = 0\n",
        "    model.train()\n",
        "    for X_batch, y_batch in train_loader:\n",
        "        #print(\"w.requires_grad:\",X_batch.requires_grad)\n",
        "        X_batch, y_batch = X_batch.to(device), y_batch.to(device)\n",
        "        optimizer.zero_grad()\n",
        "\n",
        "        y_pred = model(X_batch.float())\n",
        "        #y_pred = (y_pred>0.5).float()\n",
        "        #print(f\"y_pred = {y_pred}\")\n",
        "        #print(f\"y_batch.unsqueeze(1) = {y_batch.unsqueeze(1)}\")\n",
        "\n",
        "        loss = criterion(y_pred.float(), y_batch.unsqueeze(1).float())\n",
        "        acc = binary_acc(y_pred.float(), y_batch.unsqueeze(1).float())\n",
        "\n",
        "        loss.backward()\n",
        "        optimizer.step()\n",
        "\n",
        "        epoch_loss += loss.item()\n",
        "        epoch_acc += acc.item()\n",
        "    val_loss = 0\n",
        "    val_accuracy = 0\n",
        "    model.eval()\n",
        "    for X_batch, y_batch in test_loader:\n",
        "        X_batch, y_batch = X_batch.to(device), y_batch.to(device)\n",
        "        y_pred = model(X_batch.float())\n",
        "        loss = criterion(y_pred.float(), y_batch.unsqueeze(1).float())\n",
        "        acc = binary_acc(y_pred.float(), y_batch.unsqueeze(1).float())\n",
        "        val_loss += loss.item()\n",
        "        val_accuracy += acc.item()\n",
        "\n",
        "    print(f'Epoch {e+0:03}: | Loss: {epoch_loss/len(train_loader):.5f} | Acc: {epoch_acc/len(train_loader):.3f} | Val_Loss: {val_loss/len(test_loader):.5f} | Val_Acc: {val_accuracy/len(test_loader):.3f}')\n",
        "    #print(f'Epoch {e+0:03}: | Loss: {epoch_loss/len(train_loader):.5f} | Acc: {epoch_acc/len(train_loader):.3f}')"
      ],
      "metadata": {
        "colab": {
          "base_uri": "https://localhost:8080/"
        },
        "id": "by_qiNMVC2oX",
        "outputId": "fc7c1c34-5409-4665-986e-f97f86f1b7ea"
      },
      "execution_count": null,
      "outputs": [
        {
          "output_type": "stream",
          "name": "stdout",
          "text": [
            "Epoch 001: | Loss: 0.09293 | Acc: 96.980 | Val_Loss: 0.03083 | Val_Acc: 99.588\n",
            "Epoch 002: | Loss: 0.03521 | Acc: 99.231 | Val_Loss: 0.03296 | Val_Acc: 99.464\n",
            "Epoch 003: | Loss: 0.03005 | Acc: 99.298 | Val_Loss: 0.02537 | Val_Acc: 99.629\n",
            "Epoch 004: | Loss: 0.02759 | Acc: 99.377 | Val_Loss: 0.54930 | Val_Acc: 99.341\n",
            "Epoch 005: | Loss: 0.02735 | Acc: 99.413 | Val_Loss: 0.09531 | Val_Acc: 99.094\n",
            "Epoch 006: | Loss: 0.02531 | Acc: 99.432 | Val_Loss: 0.03039 | Val_Acc: 99.588\n",
            "Epoch 007: | Loss: 0.02824 | Acc: 99.324 | Val_Loss: 0.02821 | Val_Acc: 99.547\n",
            "Epoch 008: | Loss: 0.02813 | Acc: 99.302 | Val_Loss: 0.20122 | Val_Acc: 99.341\n",
            "Epoch 009: | Loss: 0.02820 | Acc: 99.336 | Val_Loss: 0.04140 | Val_Acc: 99.300\n",
            "Epoch 010: | Loss: 0.02850 | Acc: 99.349 | Val_Loss: 0.04490 | Val_Acc: 99.258\n"
          ]
        }
      ]
    },
    {
      "cell_type": "code",
      "source": [
        "#PATH = './DeFi_Supervised_v1.pth'\n",
        "#PATH = './DeFi_Ablation_v2.pth'\n",
        "PATH = './DeFi_Ablation_v3.pth'\n",
        "#torch.save(model, PATH)"
      ],
      "metadata": {
        "id": "m2a7DTkzC5Vy"
      },
      "execution_count": null,
      "outputs": []
    },
    {
      "cell_type": "code",
      "source": [
        "#PATH = './DeFi_Ablation_v1.pth'\n",
        "#PATH = './DeFi_Ablation_v2.pth'\n",
        "PATH = './DeFi_Ablation_v3.pth'\n",
        "loaded_model = torch.load(PATH)\n",
        "loaded_model.eval()"
      ],
      "metadata": {
        "colab": {
          "base_uri": "https://localhost:8080/"
        },
        "id": "izEn8HI6C-NP",
        "outputId": "5f23c6ca-52a9-4e98-bc7c-14750f5fd644"
      },
      "execution_count": null,
      "outputs": [
        {
          "output_type": "execute_result",
          "data": {
            "text/plain": [
              "Classifier(\n",
              "  (position_embedding): Embedding(108, 7)\n",
              "  (encoder): TransformerEncoder(\n",
              "    (layers): ModuleList(\n",
              "      (0): TransformerEncoderLayer(\n",
              "        (self_attn): MultiheadAttention(\n",
              "          (out_proj): NonDynamicallyQuantizableLinear(in_features=7, out_features=7, bias=True)\n",
              "        )\n",
              "        (linear1): Linear(in_features=7, out_features=8, bias=True)\n",
              "        (dropout): Dropout(p=0.5, inplace=False)\n",
              "        (linear2): Linear(in_features=8, out_features=7, bias=True)\n",
              "        (norm1): LayerNorm((7,), eps=1e-05, elementwise_affine=True)\n",
              "        (norm2): LayerNorm((7,), eps=1e-05, elementwise_affine=True)\n",
              "        (dropout1): Dropout(p=0.5, inplace=False)\n",
              "        (dropout2): Dropout(p=0.5, inplace=False)\n",
              "      )\n",
              "      (1): TransformerEncoderLayer(\n",
              "        (self_attn): MultiheadAttention(\n",
              "          (out_proj): NonDynamicallyQuantizableLinear(in_features=7, out_features=7, bias=True)\n",
              "        )\n",
              "        (linear1): Linear(in_features=7, out_features=8, bias=True)\n",
              "        (dropout): Dropout(p=0.5, inplace=False)\n",
              "        (linear2): Linear(in_features=8, out_features=7, bias=True)\n",
              "        (norm1): LayerNorm((7,), eps=1e-05, elementwise_affine=True)\n",
              "        (norm2): LayerNorm((7,), eps=1e-05, elementwise_affine=True)\n",
              "        (dropout1): Dropout(p=0.5, inplace=False)\n",
              "        (dropout2): Dropout(p=0.5, inplace=False)\n",
              "      )\n",
              "      (2): TransformerEncoderLayer(\n",
              "        (self_attn): MultiheadAttention(\n",
              "          (out_proj): NonDynamicallyQuantizableLinear(in_features=7, out_features=7, bias=True)\n",
              "        )\n",
              "        (linear1): Linear(in_features=7, out_features=8, bias=True)\n",
              "        (dropout): Dropout(p=0.5, inplace=False)\n",
              "        (linear2): Linear(in_features=8, out_features=7, bias=True)\n",
              "        (norm1): LayerNorm((7,), eps=1e-05, elementwise_affine=True)\n",
              "        (norm2): LayerNorm((7,), eps=1e-05, elementwise_affine=True)\n",
              "        (dropout1): Dropout(p=0.5, inplace=False)\n",
              "        (dropout2): Dropout(p=0.5, inplace=False)\n",
              "      )\n",
              "      (3): TransformerEncoderLayer(\n",
              "        (self_attn): MultiheadAttention(\n",
              "          (out_proj): NonDynamicallyQuantizableLinear(in_features=7, out_features=7, bias=True)\n",
              "        )\n",
              "        (linear1): Linear(in_features=7, out_features=8, bias=True)\n",
              "        (dropout): Dropout(p=0.5, inplace=False)\n",
              "        (linear2): Linear(in_features=8, out_features=7, bias=True)\n",
              "        (norm1): LayerNorm((7,), eps=1e-05, elementwise_affine=True)\n",
              "        (norm2): LayerNorm((7,), eps=1e-05, elementwise_affine=True)\n",
              "        (dropout1): Dropout(p=0.5, inplace=False)\n",
              "        (dropout2): Dropout(p=0.5, inplace=False)\n",
              "      )\n",
              "      (4): TransformerEncoderLayer(\n",
              "        (self_attn): MultiheadAttention(\n",
              "          (out_proj): NonDynamicallyQuantizableLinear(in_features=7, out_features=7, bias=True)\n",
              "        )\n",
              "        (linear1): Linear(in_features=7, out_features=8, bias=True)\n",
              "        (dropout): Dropout(p=0.5, inplace=False)\n",
              "        (linear2): Linear(in_features=8, out_features=7, bias=True)\n",
              "        (norm1): LayerNorm((7,), eps=1e-05, elementwise_affine=True)\n",
              "        (norm2): LayerNorm((7,), eps=1e-05, elementwise_affine=True)\n",
              "        (dropout1): Dropout(p=0.5, inplace=False)\n",
              "        (dropout2): Dropout(p=0.5, inplace=False)\n",
              "      )\n",
              "      (5): TransformerEncoderLayer(\n",
              "        (self_attn): MultiheadAttention(\n",
              "          (out_proj): NonDynamicallyQuantizableLinear(in_features=7, out_features=7, bias=True)\n",
              "        )\n",
              "        (linear1): Linear(in_features=7, out_features=8, bias=True)\n",
              "        (dropout): Dropout(p=0.5, inplace=False)\n",
              "        (linear2): Linear(in_features=8, out_features=7, bias=True)\n",
              "        (norm1): LayerNorm((7,), eps=1e-05, elementwise_affine=True)\n",
              "        (norm2): LayerNorm((7,), eps=1e-05, elementwise_affine=True)\n",
              "        (dropout1): Dropout(p=0.5, inplace=False)\n",
              "        (dropout2): Dropout(p=0.5, inplace=False)\n",
              "      )\n",
              "      (6): TransformerEncoderLayer(\n",
              "        (self_attn): MultiheadAttention(\n",
              "          (out_proj): NonDynamicallyQuantizableLinear(in_features=7, out_features=7, bias=True)\n",
              "        )\n",
              "        (linear1): Linear(in_features=7, out_features=8, bias=True)\n",
              "        (dropout): Dropout(p=0.5, inplace=False)\n",
              "        (linear2): Linear(in_features=8, out_features=7, bias=True)\n",
              "        (norm1): LayerNorm((7,), eps=1e-05, elementwise_affine=True)\n",
              "        (norm2): LayerNorm((7,), eps=1e-05, elementwise_affine=True)\n",
              "        (dropout1): Dropout(p=0.5, inplace=False)\n",
              "        (dropout2): Dropout(p=0.5, inplace=False)\n",
              "      )\n",
              "      (7): TransformerEncoderLayer(\n",
              "        (self_attn): MultiheadAttention(\n",
              "          (out_proj): NonDynamicallyQuantizableLinear(in_features=7, out_features=7, bias=True)\n",
              "        )\n",
              "        (linear1): Linear(in_features=7, out_features=8, bias=True)\n",
              "        (dropout): Dropout(p=0.5, inplace=False)\n",
              "        (linear2): Linear(in_features=8, out_features=7, bias=True)\n",
              "        (norm1): LayerNorm((7,), eps=1e-05, elementwise_affine=True)\n",
              "        (norm2): LayerNorm((7,), eps=1e-05, elementwise_affine=True)\n",
              "        (dropout1): Dropout(p=0.5, inplace=False)\n",
              "        (dropout2): Dropout(p=0.5, inplace=False)\n",
              "      )\n",
              "    )\n",
              "  )\n",
              "  (binary_classifier): BinaryClassification(\n",
              "    (layer_1): Linear(in_features=756, out_features=64, bias=True)\n",
              "    (layer_2): Linear(in_features=64, out_features=64, bias=True)\n",
              "    (layer_out): Linear(in_features=64, out_features=1, bias=True)\n",
              "    (relu): ReLU()\n",
              "    (dropout): Dropout(p=0.1, inplace=False)\n",
              "    (batchnorm1): BatchNorm1d(64, eps=1e-05, momentum=0.1, affine=True, track_running_stats=True)\n",
              "    (batchnorm2): BatchNorm1d(64, eps=1e-05, momentum=0.1, affine=True, track_running_stats=True)\n",
              "  )\n",
              ")"
            ]
          },
          "metadata": {},
          "execution_count": 9
        }
      ]
    },
    {
      "cell_type": "code",
      "source": [
        "import matplotlib.pyplot as plt\n",
        "from sklearn.metrics import confusion_matrix\n",
        "import seaborn as sn\n",
        "import pandas as pd"
      ],
      "metadata": {
        "id": "cZ0o2hiGDDfj"
      },
      "execution_count": null,
      "outputs": []
    },
    {
      "cell_type": "code",
      "source": [
        "y_pred = []\n",
        "y_true = []\n",
        "sigmoid = nn.Sigmoid()\n",
        "\n",
        "for X_batch, y_batch in test_loader:\n",
        "        #print(\"w.requires_grad:\",X_batch.requires_grad)\n",
        "        X_batch, y_batch = X_batch.to(device), y_batch.to(device)\n",
        "        y_batch_pred = torch.round(sigmoid(loaded_model(X_batch.float())))\n",
        "        y_pred.extend(y_batch_pred.cpu().detach().numpy())\n",
        "        y_true.extend(y_batch.cpu().detach().numpy())"
      ],
      "metadata": {
        "id": "sGBwIMGUDGdB"
      },
      "execution_count": null,
      "outputs": []
    },
    {
      "cell_type": "code",
      "source": [
        "count_true = 0\n",
        "for i in range(len(y_pred)):\n",
        "  if y_true[i]==y_pred[i]:\n",
        "    count_true+=1\n",
        "acc = count_true/len(y_pred)\n",
        "print(len(y_test))\n",
        "print(acc)"
      ],
      "metadata": {
        "colab": {
          "base_uri": "https://localhost:8080/"
        },
        "id": "CSzmhsFfDKu3",
        "outputId": "5879c768-5ff1-4583-dc90-f1166fd16bf3"
      },
      "execution_count": null,
      "outputs": [
        {
          "output_type": "stream",
          "name": "stdout",
          "text": [
            "2427\n",
            "0.992583436341162\n"
          ]
        }
      ]
    },
    {
      "cell_type": "code",
      "source": [
        "tn, fp, fn, tp = confusion_matrix(y_true, y_pred).ravel()\n",
        "(tn, fp, fn, tp)"
      ],
      "metadata": {
        "colab": {
          "base_uri": "https://localhost:8080/"
        },
        "id": "vHGP4PFqDMw1",
        "outputId": "0fb2d34c-a7e6-4fe1-ef08-ee76fb58175f"
      },
      "execution_count": null,
      "outputs": [
        {
          "output_type": "execute_result",
          "data": {
            "text/plain": [
              "(2354, 4, 14, 55)"
            ]
          },
          "metadata": {},
          "execution_count": 55
        }
      ]
    },
    {
      "cell_type": "code",
      "source": [
        "cf_matrix = confusion_matrix(y_true, y_pred)\n",
        "df_cm = pd.DataFrame(cf_matrix / np.sum(cf_matrix, axis=1), index = ['0','1'],\n",
        "                     columns = ['0','1'])\n",
        "plt.figure(figsize = (12,7))\n",
        "sn.heatmap(df_cm, annot=True)\n",
        "plt.savefig('output.png')"
      ],
      "metadata": {
        "id": "bgsv6Tk1DQLi",
        "colab": {
          "base_uri": "https://localhost:8080/",
          "height": 599
        },
        "outputId": "a71ab99b-a206-4038-e58f-ff66341910a9"
      },
      "execution_count": null,
      "outputs": [
        {
          "output_type": "display_data",
          "data": {
            "text/plain": [
              "<Figure size 1200x700 with 2 Axes>"
            ],
            "image/png": "[encoded data removed]"
          },
          "metadata": {}
        }
      ]
    },
    {
      "cell_type": "markdown",
      "source": [
        "**Two token**"
      ],
      "metadata": {
        "id": "0GJccHvh7Kmg"
      }
    },
    {
      "cell_type": "code",
      "source": [
        "#Anubis\n",
        "ankh_x1 = np.load(\"ankh_full_x1.npy\", allow_pickle=True)"
      ],
      "metadata": {
        "id": "R778VOz17Pk7"
      },
      "execution_count": null,
      "outputs": []
    },
    {
      "cell_type": "code",
      "source": [
        "#500\n",
        "\n",
        "for i in range(50,108):\n",
        "  ankh_x1[i] = [0,0,0,0,0,0,0]\n",
        "\n",
        "print(ankh_x1.shape)\n",
        "ankh_x1 = np.reshape(ankh_x1, (1, 108, 7))\n",
        "print(ankh_x1.shape)\n",
        "\n",
        "ankh_x1 = torch.from_numpy(ankh_x1)\n",
        "ankh_x1 = ankh_x1.to(device)\n",
        "\n",
        "sigmoid = nn.Sigmoid()\n",
        "val = sigmoid(loaded_model(ankh_x1.float()))\n",
        "print(val)\n",
        "torch.round(val)"
      ],
      "metadata": {
        "colab": {
          "base_uri": "https://localhost:8080/"
        },
        "id": "RODlfT087TAH",
        "outputId": "11319c3f-9ff4-4f46-e0c5-99e8f424aa81"
      },
      "execution_count": null,
      "outputs": [
        {
          "output_type": "stream",
          "name": "stdout",
          "text": [
            "(108, 7)\n",
            "(1, 108, 7)\n",
            "tensor([[0.0071]], device='cuda:0', grad_fn=<SigmoidBackward0>)\n"
          ]
        },
        {
          "output_type": "execute_result",
          "data": {
            "text/plain": [
              "tensor([[0.]], device='cuda:0', grad_fn=<RoundBackward0>)"
            ]
          },
          "metadata": {},
          "execution_count": 15
        }
      ]
    },
    {
      "cell_type": "code",
      "source": [
        "#750\n",
        "\n",
        "for i in range(75,108):\n",
        "  ankh_x1[i] = [0,0,0,0,0,0,0]\n",
        "\n",
        "print(ankh_x1.shape)\n",
        "ankh_x1 = np.reshape(ankh_x1, (1, 108, 7))\n",
        "print(ankh_x1.shape)\n",
        "\n",
        "ankh_x1 = torch.from_numpy(ankh_x1)\n",
        "ankh_x1 = ankh_x1.to(device)\n",
        "\n",
        "sigmoid = nn.Sigmoid()\n",
        "val = sigmoid(loaded_model(ankh_x1.float()))\n",
        "print(val)\n",
        "torch.round(val)"
      ],
      "metadata": {
        "colab": {
          "base_uri": "https://localhost:8080/"
        },
        "id": "B0bNCGzH8Lwf",
        "outputId": "867a719d-b917-4996-ddd5-40008b5e1b3e"
      },
      "execution_count": null,
      "outputs": [
        {
          "output_type": "stream",
          "name": "stdout",
          "text": [
            "(108, 7)\n",
            "(1, 108, 7)\n",
            "tensor([[0.2284]], device='cuda:0', grad_fn=<SigmoidBackward0>)\n"
          ]
        },
        {
          "output_type": "execute_result",
          "data": {
            "text/plain": [
              "tensor([[0.]], device='cuda:0', grad_fn=<RoundBackward0>)"
            ]
          },
          "metadata": {},
          "execution_count": 27
        }
      ]
    },
    {
      "cell_type": "code",
      "source": [
        "#850\n",
        "\n",
        "for i in range(85,108):\n",
        "  ankh_x1[i] = [0,0,0,0,0,0,0]\n",
        "\n",
        "print(ankh_x1.shape)\n",
        "ankh_x1 = np.reshape(ankh_x1, (1, 108, 7))\n",
        "print(ankh_x1.shape)\n",
        "\n",
        "ankh_x1 = torch.from_numpy(ankh_x1)\n",
        "ankh_x1 = ankh_x1.to(device)\n",
        "\n",
        "sigmoid = nn.Sigmoid()\n",
        "val = sigmoid(loaded_model(ankh_x1.float()))\n",
        "print(val)\n",
        "torch.round(val)"
      ],
      "metadata": {
        "colab": {
          "base_uri": "https://localhost:8080/"
        },
        "id": "GZNvipUc8RXX",
        "outputId": "24db96fb-7b60-43f5-90db-117012bcfd76"
      },
      "execution_count": null,
      "outputs": [
        {
          "output_type": "stream",
          "name": "stdout",
          "text": [
            "(108, 7)\n",
            "(1, 108, 7)\n",
            "tensor([[0.9375]], device='cuda:0', grad_fn=<SigmoidBackward0>)\n"
          ]
        },
        {
          "output_type": "execute_result",
          "data": {
            "text/plain": [
              "tensor([[1.]], device='cuda:0', grad_fn=<RoundBackward0>)"
            ]
          },
          "metadata": {},
          "execution_count": 29
        }
      ]
    },
    {
      "cell_type": "code",
      "source": [
        "#full\n",
        "\n",
        "#for i in range(50,108):\n",
        "#  ankh_x1[i] = [0,0,0,0,0,0,0]\n",
        "\n",
        "print(ankh_x1.shape)\n",
        "ankh_x1 = np.reshape(ankh_x1, (1, 108, 7))\n",
        "print(ankh_x1.shape)\n",
        "\n",
        "ankh_x1 = torch.from_numpy(ankh_x1)\n",
        "ankh_x1 = ankh_x1.to(device)\n",
        "\n",
        "sigmoid = nn.Sigmoid()\n",
        "val = sigmoid(loaded_model(ankh_x1.float()))\n",
        "print(val)\n",
        "torch.round(val)"
      ],
      "metadata": {
        "colab": {
          "base_uri": "https://localhost:8080/"
        },
        "id": "D6ehoLVN8eg7",
        "outputId": "19bcfe53-b220-461b-c02f-9ad53745253d"
      },
      "execution_count": null,
      "outputs": [
        {
          "output_type": "stream",
          "name": "stdout",
          "text": [
            "(108, 7)\n",
            "(1, 108, 7)\n",
            "tensor([[7.5255e-07]], device='cuda:0', grad_fn=<SigmoidBackward0>)\n"
          ]
        },
        {
          "output_type": "execute_result",
          "data": {
            "text/plain": [
              "tensor([[0.]], device='cuda:0', grad_fn=<RoundBackward0>)"
            ]
          },
          "metadata": {},
          "execution_count": 25
        }
      ]
    },
    {
      "cell_type": "code",
      "source": [
        "#Sushi\n",
        "sushi_x1 = np.load(\"sushi_full_x1.npy\", allow_pickle=True)"
      ],
      "metadata": {
        "id": "JJQK0TkG8yq9"
      },
      "execution_count": null,
      "outputs": []
    },
    {
      "cell_type": "code",
      "source": [
        "#500\n",
        "\n",
        "for i in range(50,108):\n",
        "  sushi_x1[i] = [0,0,0,0,0,0,0]\n",
        "\n",
        "print(sushi_x1.shape)\n",
        "sushi_x1 = np.reshape(sushi_x1, (1, 108, 7))\n",
        "print(sushi_x1.shape)\n",
        "\n",
        "sushi_x1 = torch.from_numpy(sushi_x1)\n",
        "sushi_x1 = sushi_x1.to(device)\n",
        "\n",
        "sigmoid = nn.Sigmoid()\n",
        "val = sigmoid(loaded_model(sushi_x1.float()))\n",
        "print(val)\n",
        "torch.round(val)"
      ],
      "metadata": {
        "colab": {
          "base_uri": "https://localhost:8080/"
        },
        "id": "mijpOWkG89dp",
        "outputId": "b7c795fa-de14-4fd4-f32d-d0b4b723e3a7"
      },
      "execution_count": null,
      "outputs": [
        {
          "output_type": "stream",
          "name": "stdout",
          "text": [
            "(108, 7)\n",
            "(1, 108, 7)\n",
            "tensor([[0.0580]], device='cuda:0', grad_fn=<SigmoidBackward0>)\n"
          ]
        },
        {
          "output_type": "execute_result",
          "data": {
            "text/plain": [
              "tensor([[0.]], device='cuda:0', grad_fn=<RoundBackward0>)"
            ]
          },
          "metadata": {},
          "execution_count": 37
        }
      ]
    },
    {
      "cell_type": "code",
      "source": [
        "#750\n",
        "\n",
        "for i in range(75,108):\n",
        "  sushi_x1[i] = [0,0,0,0,0,0,0]\n",
        "\n",
        "print(sushi_x1.shape)\n",
        "sushi_x1 = np.reshape(sushi_x1, (1, 108, 7))\n",
        "print(sushi_x1.shape)\n",
        "\n",
        "sushi_x1 = torch.from_numpy(sushi_x1)\n",
        "sushi_x1 = sushi_x1.to(device)\n",
        "\n",
        "sigmoid = nn.Sigmoid()\n",
        "val = sigmoid(loaded_model(sushi_x1.float()))\n",
        "print(val)\n",
        "torch.round(val)"
      ],
      "metadata": {
        "colab": {
          "base_uri": "https://localhost:8080/"
        },
        "id": "An3228-l9Fkj",
        "outputId": "f8c6818a-9446-4a0e-a58e-a705903927e4"
      },
      "execution_count": null,
      "outputs": [
        {
          "output_type": "stream",
          "name": "stdout",
          "text": [
            "(108, 7)\n",
            "(1, 108, 7)\n",
            "tensor([[0.9919]], device='cuda:0', grad_fn=<SigmoidBackward0>)\n"
          ]
        },
        {
          "output_type": "execute_result",
          "data": {
            "text/plain": [
              "tensor([[1.]], device='cuda:0', grad_fn=<RoundBackward0>)"
            ]
          },
          "metadata": {},
          "execution_count": 39
        }
      ]
    },
    {
      "cell_type": "code",
      "source": [
        "#850\n",
        "\n",
        "for i in range(85,108):\n",
        "  sushi_x1[i] = [0,0,0,0,0,0,0]\n",
        "\n",
        "print(sushi_x1.shape)\n",
        "sushi_x1 = np.reshape(sushi_x1, (1, 108, 7))\n",
        "print(sushi_x1.shape)\n",
        "\n",
        "sushi_x1 = torch.from_numpy(sushi_x1)\n",
        "sushi_x1 = sushi_x1.to(device)\n",
        "\n",
        "sigmoid = nn.Sigmoid()\n",
        "val = sigmoid(loaded_model(sushi_x1.float()))\n",
        "print(val)\n",
        "torch.round(val)"
      ],
      "metadata": {
        "colab": {
          "base_uri": "https://localhost:8080/"
        },
        "id": "HwaSuG8I84_1",
        "outputId": "befe8a4a-da7a-46cb-fd71-b10e0fcf4979"
      },
      "execution_count": null,
      "outputs": [
        {
          "output_type": "stream",
          "name": "stdout",
          "text": [
            "(108, 7)\n",
            "(1, 108, 7)\n",
            "tensor([[0.9957]], device='cuda:0', grad_fn=<SigmoidBackward0>)\n"
          ]
        },
        {
          "output_type": "execute_result",
          "data": {
            "text/plain": [
              "tensor([[1.]], device='cuda:0', grad_fn=<RoundBackward0>)"
            ]
          },
          "metadata": {},
          "execution_count": 41
        }
      ]
    },
    {
      "cell_type": "code",
      "source": [
        "#Full\n",
        "\n",
        "print(sushi_x1.shape)\n",
        "sushi_x1 = np.reshape(sushi_x1, (1, 108, 7))\n",
        "print(sushi_x1.shape)\n",
        "\n",
        "sushi_x1 = torch.from_numpy(sushi_x1)\n",
        "sushi_x1 = sushi_x1.to(device)\n",
        "\n",
        "sigmoid = nn.Sigmoid()\n",
        "val = sigmoid(loaded_model(sushi_x1.float()))\n",
        "print(val)\n",
        "torch.round(val)"
      ],
      "metadata": {
        "id": "u8j-eq0S-8NE",
        "outputId": "b03a734f-0951-4356-9af6-917866b002ea",
        "colab": {
          "base_uri": "https://localhost:8080/"
        }
      },
      "execution_count": null,
      "outputs": [
        {
          "output_type": "stream",
          "name": "stdout",
          "text": [
            "(108, 7)\n",
            "(1, 108, 7)\n",
            "tensor([[1.]], device='cuda:0', grad_fn=<SigmoidBackward0>)\n"
          ]
        },
        {
          "output_type": "execute_result",
          "data": {
            "text/plain": [
              "tensor([[1.]], device='cuda:0', grad_fn=<RoundBackward0>)"
            ]
          },
          "metadata": {},
          "execution_count": 43
        }
      ]
    },
    {
      "cell_type": "markdown",
      "source": [
        "**APE**"
      ],
      "metadata": {
        "id": "wddTMx_0FvUe"
      }
    },
    {
      "cell_type": "code",
      "source": [
        "from google.colab import files\n",
        "uploaded=files.upload()"
      ],
      "metadata": {
        "colab": {
          "base_uri": "https://localhost:8080/",
          "height": 73
        },
        "id": "DYfxUxHXF14X",
        "outputId": "4395ee73-0dd7-4d1a-d5f1-65f67fed28b2"
      },
      "execution_count": null,
      "outputs": [
        {
          "output_type": "display_data",
          "data": {
            "text/plain": [
              "<IPython.core.display.HTML object>"
            ],
            "text/html": [
              "\n",
              "     <input type=\"file\" id=\"files-db7de152-32b4-4e17-a237-d14ef2dcfc17\" name=\"files[]\" multiple disabled\n",
              "        style=\"border:none\" />\n",
              "     <output id=\"result-db7de152-32b4-4e17-a237-d14ef2dcfc17\">\n",
              "      Upload widget is only available when the cell has been executed in the\n",
              "      current browser session. Please rerun this cell to enable.\n",
              "      </output>\n",
              "      <script>// Copyright 2017 Google LLC\n",
              "//\n",
              "// Licensed under the Apache License, Version 2.0 (the \"License\");\n",
              "// you may not use this file except in compliance with the License.\n",
              "// You may obtain a copy of the License at\n",
              "//\n",
              "//      http://www.apache.org/licenses/LICENSE-2.0\n",
              "//\n",
              "// Unless required by applicable law or agreed to in writing, software\n",
              "// distributed under the License is distributed on an \"AS IS\" BASIS,\n",
              "// WITHOUT WARRANTIES OR CONDITIONS OF ANY KIND, either express or implied.\n",
              "// See the License for the specific language governing permissions and\n",
              "// limitations under the License.\n",
              "\n",
              "/**\n",
              " * @fileoverview Helpers for google.colab Python module.\n",
              " */\n",
              "(function(scope) {\n",
              "function span(text, styleAttributes = {}) {\n",
              "  const element = document.createElement('span');\n",
              "  element.textContent = text;\n",
              "  for (const key of Object.keys(styleAttributes)) {\n",
              "    element.style[key] = styleAttributes[key];\n",
              "  }\n",
              "  return element;\n",
              "}\n",
              "\n",
              "// Max number of bytes which will be uploaded at a time.\n",
              "const MAX_PAYLOAD_SIZE = 100 * 1024;\n",
              "\n",
              "function _uploadFiles(inputId, outputId) {\n",
              "  const steps = uploadFilesStep(inputId, outputId);\n",
              "  const outputElement = document.getElementById(outputId);\n",
              "  // Cache steps on the outputElement to make it available for the next call\n",
              "  // to uploadFilesContinue from Python.\n",
              "  outputElement.steps = steps;\n",
              "\n",
              "  return _uploadFilesContinue(outputId);\n",
              "}\n",
              "\n",
              "// This is roughly an async generator (not supported in the browser yet),\n",
              "// where there are multiple asynchronous steps and the Python side is going\n",
              "// to poll for completion of each step.\n",
              "// This uses a Promise to block the python side on completion of each step,\n",
              "// then passes the result of the previous step as the input to the next step.\n",
              "function _uploadFilesContinue(outputId) {\n",
              "  const outputElement = document.getElementById(outputId);\n",
              "  const steps = outputElement.steps;\n",
              "\n",
              "  const next = steps.next(outputElement.lastPromiseValue);\n",
              "  return Promise.resolve(next.value.promise).then((value) => {\n",
              "    // Cache the last promise value to make it available to the next\n",
              "    // step of the generator.\n",
              "    outputElement.lastPromiseValue = value;\n",
              "    return next.value.response;\n",
              "  });\n",
              "}\n",
              "\n",
              "/**\n",
              " * Generator function which is called between each async step of the upload\n",
              " * process.\n",
              " * @param {string} inputId Element ID of the input file picker element.\n",
              " * @param {string} outputId Element ID of the output display.\n",
              " * @return {!Iterable<!Object>} Iterable of next steps.\n",
              " */\n",
              "function* uploadFilesStep(inputId, outputId) {\n",
              "  const inputElement = document.getElementById(inputId);\n",
              "  inputElement.disabled = false;\n",
              "\n",
              "  const outputElement = document.getElementById(outputId);\n",
              "  outputElement.innerHTML = '';\n",
              "\n",
              "  const pickedPromise = new Promise((resolve) => {\n",
              "    inputElement.addEventListener('change', (e) => {\n",
              "      resolve(e.target.files);\n",
              "    });\n",
              "  });\n",
              "\n",
              "  const cancel = document.createElement('button');\n",
              "  inputElement.parentElement.appendChild(cancel);\n",
              "  cancel.textContent = 'Cancel upload';\n",
              "  const cancelPromise = new Promise((resolve) => {\n",
              "    cancel.onclick = () => {\n",
              "      resolve(null);\n",
              "    };\n",
              "  });\n",
              "\n",
              "  // Wait for the user to pick the files.\n",
              "  const files = yield {\n",
              "    promise: Promise.race([pickedPromise, cancelPromise]),\n",
              "    response: {\n",
              "      action: 'starting',\n",
              "    }\n",
              "  };\n",
              "\n",
              "  cancel.remove();\n",
              "\n",
              "  // Disable the input element since further picks are not allowed.\n",
              "  inputElement.disabled = true;\n",
              "\n",
              "  if (!files) {\n",
              "    return {\n",
              "      response: {\n",
              "        action: 'complete',\n",
              "      }\n",
              "    };\n",
              "  }\n",
              "\n",
              "  for (const file of files) {\n",
              "    const li = document.createElement('li');\n",
              "    li.append(span(file.name, {fontWeight: 'bold'}));\n",
              "    li.append(span(\n",
              "        `(${file.type || 'n/a'}) - ${file.size} bytes, ` +\n",
              "        `last modified: ${\n",
              "            file.lastModifiedDate ? file.lastModifiedDate.toLocaleDateString() :\n",
              "                                    'n/a'} - `));\n",
              "    const percent = span('0% done');\n",
              "    li.appendChild(percent);\n",
              "\n",
              "    outputElement.appendChild(li);\n",
              "\n",
              "    const fileDataPromise = new Promise((resolve) => {\n",
              "      const reader = new FileReader();\n",
              "      reader.onload = (e) => {\n",
              "        resolve(e.target.result);\n",
              "      };\n",
              "      reader.readAsArrayBuffer(file);\n",
              "    });\n",
              "    // Wait for the data to be ready.\n",
              "    let fileData = yield {\n",
              "      promise: fileDataPromise,\n",
              "      response: {\n",
              "        action: 'continue',\n",
              "      }\n",
              "    };\n",
              "\n",
              "    // Use a chunked sending to avoid message size limits. See b/62115660.\n",
              "    let position = 0;\n",
              "    do {\n",
              "      const length = Math.min(fileData.byteLength - position, MAX_PAYLOAD_SIZE);\n",
              "      const chunk = new Uint8Array(fileData, position, length);\n",
              "      position += length;\n",
              "\n",
              "      const base64 = btoa(String.fromCharCode.apply(null, chunk));\n",
              "      yield {\n",
              "        response: {\n",
              "          action: 'append',\n",
              "          file: file.name,\n",
              "          data: base64,\n",
              "        },\n",
              "      };\n",
              "\n",
              "      let percentDone = fileData.byteLength === 0 ?\n",
              "          100 :\n",
              "          Math.round((position / fileData.byteLength) * 100);\n",
              "      percent.textContent = `${percentDone}% done`;\n",
              "\n",
              "    } while (position < fileData.byteLength);\n",
              "  }\n",
              "\n",
              "  // All done.\n",
              "  yield {\n",
              "    response: {\n",
              "      action: 'complete',\n",
              "    }\n",
              "  };\n",
              "}\n",
              "\n",
              "scope.google = scope.google || {};\n",
              "scope.google.colab = scope.google.colab || {};\n",
              "scope.google.colab._files = {\n",
              "  _uploadFiles,\n",
              "  _uploadFilesContinue,\n",
              "};\n",
              "})(self);\n",
              "</script> "
            ]
          },
          "metadata": {}
        },
        {
          "output_type": "stream",
          "name": "stdout",
          "text": [
            "Saving ape_full_x1.npy to ape_full_x1.npy\n"
          ]
        }
      ]
    },
    {
      "cell_type": "code",
      "source": [
        "#Ape\n",
        "x1 = np.load(\"ape_full_x1.npy\", allow_pickle=True)"
      ],
      "metadata": {
        "id": "J7xOK4d5Fxq1"
      },
      "execution_count": null,
      "outputs": []
    },
    {
      "cell_type": "code",
      "source": [
        "#500\n",
        "\n",
        "for i in range(50,108):\n",
        "  x1[i] = [0,0,0,0,0,0,0]\n",
        "\n",
        "print(x1.shape)\n",
        "x1 = np.reshape(x1, (1, 108, 7))\n",
        "print(x1.shape)\n",
        "\n",
        "x1 = torch.from_numpy(x1)\n",
        "x1 = x1.to(device)\n",
        "\n",
        "sigmoid = nn.Sigmoid()\n",
        "val = sigmoid(loaded_model(x1.float()))\n",
        "print(val)\n",
        "torch.round(val)"
      ],
      "metadata": {
        "colab": {
          "base_uri": "https://localhost:8080/"
        },
        "id": "WYrL8_w9GAYC",
        "outputId": "fde4d624-18b9-4625-a97e-09caeda11ffa"
      },
      "execution_count": null,
      "outputs": [
        {
          "output_type": "stream",
          "name": "stdout",
          "text": [
            "(108, 7)\n",
            "(1, 108, 7)\n",
            "tensor([[0.0006]], device='cuda:0', grad_fn=<SigmoidBackward0>)\n"
          ]
        },
        {
          "output_type": "execute_result",
          "data": {
            "text/plain": [
              "tensor([[0.]], device='cuda:0', grad_fn=<RoundBackward0>)"
            ]
          },
          "metadata": {},
          "execution_count": 13
        }
      ]
    },
    {
      "cell_type": "code",
      "source": [
        "#750\n",
        "\n",
        "for i in range(75,108):\n",
        "  x1[i] = [0,0,0,0,0,0,0]\n",
        "\n",
        "print(x1.shape)\n",
        "x1 = np.reshape(x1, (1, 108, 7))\n",
        "print(x1.shape)\n",
        "\n",
        "x1 = torch.from_numpy(x1)\n",
        "x1 = x1.to(device)\n",
        "\n",
        "sigmoid = nn.Sigmoid()\n",
        "val = sigmoid(loaded_model(x1.float()))\n",
        "print(val)\n",
        "torch.round(val)"
      ],
      "metadata": {
        "colab": {
          "base_uri": "https://localhost:8080/"
        },
        "id": "q3TmrbnhGIcv",
        "outputId": "629d2479-272d-4c5c-e812-924caef1c3c0"
      },
      "execution_count": null,
      "outputs": [
        {
          "output_type": "stream",
          "name": "stdout",
          "text": [
            "(108, 7)\n",
            "(1, 108, 7)\n",
            "tensor([[0.9763]], device='cuda:0', grad_fn=<SigmoidBackward0>)\n"
          ]
        },
        {
          "output_type": "execute_result",
          "data": {
            "text/plain": [
              "tensor([[1.]], device='cuda:0', grad_fn=<RoundBackward0>)"
            ]
          },
          "metadata": {},
          "execution_count": 16
        }
      ]
    },
    {
      "cell_type": "code",
      "source": [
        "#850\n",
        "\n",
        "for i in range(85,108):\n",
        "  x1[i] = [0,0,0,0,0,0,0]\n",
        "\n",
        "print(x1.shape)\n",
        "x1 = np.reshape(x1, (1, 108, 7))\n",
        "print(x1.shape)\n",
        "\n",
        "x1 = torch.from_numpy(x1)\n",
        "x1 = x1.to(device)\n",
        "\n",
        "sigmoid = nn.Sigmoid()\n",
        "val = sigmoid(loaded_model(x1.float()))\n",
        "print(val)\n",
        "torch.round(val)"
      ],
      "metadata": {
        "colab": {
          "base_uri": "https://localhost:8080/"
        },
        "id": "t840Bw2GGRzq",
        "outputId": "b94ba91f-1e0c-485c-95bd-ebeba19782ad"
      },
      "execution_count": null,
      "outputs": [
        {
          "output_type": "stream",
          "name": "stdout",
          "text": [
            "(108, 7)\n",
            "(1, 108, 7)\n",
            "tensor([[0.9997]], device='cuda:0', grad_fn=<SigmoidBackward0>)\n"
          ]
        },
        {
          "output_type": "execute_result",
          "data": {
            "text/plain": [
              "tensor([[1.]], device='cuda:0', grad_fn=<RoundBackward0>)"
            ]
          },
          "metadata": {},
          "execution_count": 18
        }
      ]
    },
    {
      "cell_type": "code",
      "source": [
        "#Full\n",
        "\n",
        "print(x1.shape)\n",
        "x1 = np.reshape(x1, (1, 108, 7))\n",
        "print(x1.shape)\n",
        "\n",
        "x1 = torch.from_numpy(x1)\n",
        "x1 = x1.to(device)\n",
        "\n",
        "sigmoid = nn.Sigmoid()\n",
        "val = sigmoid(loaded_model(x1.float()))\n",
        "print(val)\n",
        "torch.round(val)"
      ],
      "metadata": {
        "colab": {
          "base_uri": "https://localhost:8080/"
        },
        "id": "IR32mru-Gamj",
        "outputId": "b1fb144c-adfe-49af-8d3e-b579835171df"
      },
      "execution_count": null,
      "outputs": [
        {
          "output_type": "stream",
          "name": "stdout",
          "text": [
            "(108, 7)\n",
            "(1, 108, 7)\n",
            "tensor([[8.2050e-08]], device='cuda:0', grad_fn=<SigmoidBackward0>)\n"
          ]
        },
        {
          "output_type": "execute_result",
          "data": {
            "text/plain": [
              "tensor([[0.]], device='cuda:0', grad_fn=<RoundBackward0>)"
            ]
          },
          "metadata": {},
          "execution_count": 20
        }
      ]
    }
  ]
}